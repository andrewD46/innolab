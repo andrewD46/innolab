{
 "cells": [
  {
   "cell_type": "markdown",
   "metadata": {},
   "source": [
    "#### \"Сортировщик типов\"\n",
    "\n",
    "Дан список `mixed_list`, содержащий элементы разных типов.\n",
    "Напишите код, который создает словарь `sorted_data`.\n",
    "Ключами в этом словаре должны быть типы данных (например, str, int),\n",
    "а значениями — списки элементов из `mixed_list`, отсортированные по этому типу.\n",
    "\n",
    "##### Пример: для [1, 'a', 2, 'b'] результат будет {'int': [1, 2], 'str': ['a', 'b']}\n"
   ]
  },
  {
   "cell_type": "code",
   "execution_count": 28,
   "metadata": {},
   "outputs": [],
   "source": [
    "mixed_list = [10, 2.5, \"Python\", True, 30, \"is\", \"fun\", 1.0, False]\n",
    "sorted_data = {}\n",
    "\n",
    "# Ваш код здесь"
   ]
  },
  {
   "cell_type": "markdown",
   "metadata": {},
   "source": [
    "#### \"Проверка на кратность\"\n",
    "\n",
    "Напишите функцию `check_number(n)`, которая принимает целое число `n`.\n",
    "Функция должна вернуть `True`, если `n` делится на 4, но при этом не делится на 6.\n",
    "В остальных случаях функция должна возвращать `False`.\n",
    "\n",
    "##### Проверьте функцию на числах 8, 12 и 16."
   ]
  },
  {
   "cell_type": "code",
   "execution_count": 29,
   "metadata": {},
   "outputs": [],
   "source": [
    "# Ваш код здесь"
   ]
  },
  {
   "cell_type": "markdown",
   "metadata": {},
   "source": [
    "#### \"Второе по величине число\"\n",
    "\n",
    "Найдите второе по величине число в списке `numbers`.\n",
    "Запрещается использовать встроенные функции сортировки (sort, sorted)\n",
    "или превращать список в множество (set) для удаления дубликатов.\n",
    "\n",
    "##### **Подсказка**: вам понадобятся две переменные для хранения самого большого и второго по величине числа."
   ]
  },
  {
   "cell_type": "code",
   "execution_count": 30,
   "metadata": {},
   "outputs": [],
   "source": [
    "\n",
    "numbers = [10, 5, 8, 20, 15, 20, 15]\n",
    "max1 = 0  # используйте для самого большого числа\n",
    "max2 = 0  # используйте для самого второго по величине числа\n",
    "\n",
    "# Ваш код здесь"
   ]
  },
  {
   "cell_type": "markdown",
   "metadata": {},
   "source": [
    "#### \"Валидный палиндром\"\n",
    "Напишите функцию `is_palindrome(s)`, которая определяет, является ли строка `s` палиндромом.\n",
    "Функция должна игнорировать регистр букв и пробелы.\n",
    "\n",
    "##### **Палиндром** — это строка, которая читается одинаково слева направо и справа налево."
   ]
  },
  {
   "cell_type": "code",
   "execution_count": null,
   "metadata": {},
   "outputs": [],
   "source": [
    "def is_palindrome(s):\n",
    "    pass # Ваш код здесь\n",
    "\n",
    "print(is_palindrome(\"A man a plan a canal Panama\")) # True\n",
    "print(is_palindrome(\"hello\")) # False\n"
   ]
  },
  {
   "cell_type": "markdown",
   "metadata": {},
   "source": [
    "#### \"Банковский счет\"\n",
    "Создайте класс `BankAccount`.\n",
    "- В `__init__` он должен принимать `owner_name` и устанавливать `balance` на 0.\n",
    "- Метод `deposit(amount)` должен увеличивать баланс.\n",
    "- Метод `withdraw(amount)` должен уменьшать баланс, но не позволять ему стать отрицательным.\n",
    "-  Если снятие успешно, метод возвращает `True`, иначе `False`."
   ]
  },
  {
   "cell_type": "code",
   "execution_count": null,
   "metadata": {},
   "outputs": [],
   "source": [
    "class BankAccount:\n",
    "    pass # Ваш код здесь\n",
    "\n",
    "# Проверка\n",
    "acc = BankAccount(\"Ivan\")\n",
    "acc.deposit(100)\n",
    "print(f\"Снятие 50: {acc.withdraw(50)}, Баланс: {acc.balance}\")   # True, 50.0\n",
    "print(f\"Снятие 60: {acc.withdraw(60)}, Баланс: {acc.balance}\")   # False, 50.0"
   ]
  },
  {
   "cell_type": "markdown",
   "metadata": {},
   "source": [
    "#### \"Средний балл студентов\"\n",
    "1. Прочитайте файл \"grades.csv\".\n",
    "2. Вычислите средний балл для КАЖДОГО студента.\n",
    "3. Запишите результат в JSON-файл \"averages.json\" в формате {\"Имя\": Средний балл}.\n",
    "\n",
    "#####    Пример: {\"Alice\": 91.5, ...}"
   ]
  },
  {
   "cell_type": "code",
   "execution_count": 33,
   "metadata": {},
   "outputs": [],
   "source": [
    "import csv\n",
    "import json\n",
    "\n",
    "# Шаг 1: Чтение файла\n",
    "\n",
    "# Шаг 2: Вычисление среднего балла\n",
    "\n",
    "# Шаг 4: Запись в JSON"
   ]
  },
  {
   "cell_type": "markdown",
   "metadata": {},
   "source": [
    "#### \"Лидер продаж по категориям\"\n",
    "\n",
    "1. Создайте DataFrame с товарами, их категориями и объемом продаж из словаря `data`.\n",
    "2. Используя Pandas, сгруппируйте данные по категориям и посчитайте суммарные продажи для каждой.\n",
    "3. Определите и выведите на экран название категории с самым высоким объемом продаж.\n",
    "\n",
    "##### Для установки pandas выполните команду в Терминале: `pip3 install pandas`"
   ]
  },
  {
   "cell_type": "code",
   "execution_count": null,
   "metadata": {},
   "outputs": [],
   "source": [
    "\n",
    "import pandas as pd\n",
    "\n",
    "data = {\n",
    "    'Product': ['A', 'B', 'C', 'D', 'E', 'F'],\n",
    "    'Category': ['Electronics', 'Apparel', 'Electronics', 'Books', 'Apparel', 'Books'],\n",
    "    'Sales': [1200, 800, 2500, 400, 600, 900]\n",
    "}\n",
    "\n",
    "# Ваш код здесь"
   ]
  },
  {
   "cell_type": "markdown",
   "metadata": {},
   "source": [
    "#### \"Аанализ данных\"\n",
    "\n",
    "##### Датасет собран из базы данных переписи 1994 года и содержит данные о доходах.\n",
    "##### Информация о данных:\n",
    "- age: continuous.\n",
    "- workclass: Private, Self-emp-not-inc, Self-emp-inc, Federal-gov, Local-gov, State-gov, Without-pay, Never-worked.\n",
    "- fnlwgt: continuous.\n",
    "- education: Bachelors, Some-college, 11th, HS-grad, Prof-school, Assoc-acdm, Assoc-voc, 9th, 7th-8th, 12th, * Masters, 1st-4th, 10th, Doctorate, 5th-6th, Preschool.\n",
    "- education-num: continuous.\n",
    "- marital-status: Married-civ-spouse, Divorced, Never-married, Separated, Widowed, Married-spouse-absent, Married-AF-spouse.\n",
    "- occupation: Tech-support, Craft-repair, Other-service, Sales, Exec-managerial, Prof-specialty, Handlers-cleaners, Machine-op-inspct, Adm-clerical, Farming-fishing, Transport-moving, Priv-house-serv, Protective-serv, Armed-Forces.\n",
    "- relationship: Wife, Own-child, Husband, Not-in-family, Other-relative, Unmarried.\n",
    "- race: White, Asian-Pac-Islander, Amer-Indian-Eskimo, Other, Black.\n",
    "- sex: Female, Male.\n",
    "- capital-gain: continuous.\n",
    "- capital-loss: continuous.\n",
    "- hours-per-week: continuous.\n",
    "- native-country: United-States, Cambodia, England, Puerto-Rico, Canada, Germany, Outlying-US(Guam-USVI-etc), India, Japan, Greece, South, China, Cuba, Iran, Honduras, Philippines, Italy, Poland, Jamaica, Vietnam, Mexico, Portugal, Ireland, France, Dominican-Republic, Laos, Ecuador, Taiwan, Haiti, Columbia, Hungary, Guatemala, Nicaragua, Scotland, Thailand, Yugoslavia, El-Salvador, Trinadad&Tobago, Peru, Hong, Holand-Netherlands.\n",
    "- salary: >50K,<=50K\n",
    "\n",
    "##### Проведите анализ данных при помощи Pandas выполнив поставленные задачи."
   ]
  },
  {
   "cell_type": "code",
   "execution_count": null,
   "metadata": {},
   "outputs": [],
   "source": [
    "import pandas as pd\n",
    "\n",
    "# Прочитайте датасет adult_data.csv при помощи pandas и выведите 5 первых строк\n",
    "# Ваш код здесь"
   ]
  },
  {
   "cell_type": "markdown",
   "metadata": {},
   "source": [
    "1. Посчитайте, сколько мужчин и женщин (признак sex) представлено в этом датасете:"
   ]
  },
  {
   "cell_type": "code",
   "execution_count": null,
   "metadata": {},
   "outputs": [],
   "source": [
    "# Ваш код здесь"
   ]
  },
  {
   "cell_type": "markdown",
   "metadata": {},
   "source": [
    "2. Каков средний возраст мужчин (признак age) по всему датасету?"
   ]
  },
  {
   "cell_type": "code",
   "execution_count": null,
   "metadata": {},
   "outputs": [],
   "source": [
    "# Ваш код здесь"
   ]
  },
  {
   "cell_type": "markdown",
   "metadata": {},
   "source": [
    "3. Какова доля граждан Соединенных Штатов (признак native-country)?"
   ]
  },
  {
   "cell_type": "code",
   "execution_count": null,
   "metadata": {},
   "outputs": [],
   "source": [
    "# Ваш код здесь"
   ]
  },
  {
   "cell_type": "markdown",
   "metadata": {},
   "source": [
    "4. Рассчитайте среднее значение возраста тех, кто получает более 50K в год (признак salary) и тех, кто получает менее 50K в год:"
   ]
  },
  {
   "cell_type": "code",
   "execution_count": null,
   "metadata": {},
   "outputs": [],
   "source": [
    "# Ваш код здесь"
   ]
  },
  {
   "cell_type": "markdown",
   "metadata": {},
   "source": [
    "#### \"Фильтрация матрицы\"\n",
    "\n",
    "1. Создайте матрицу NumPy размером 5x5, заполненную случайными целыми числами от 1 до 50.\n",
    "2. Создайте новую матрицу, в которой все числа из исходной матрицы, которые меньше 20,\n",
    "   будут заменены на 0. Остальные числа должны остаться без изменений.\n",
    "3. Выведите на экран обе матрицы.\n",
    "\n",
    "##### Для установки numpy выполните команду в Терминале: `pip3 install numpy`"
   ]
  },
  {
   "cell_type": "code",
   "execution_count": null,
   "metadata": {},
   "outputs": [],
   "source": [
    "import numpy as np\n",
    "\n",
    "# Ваш код здесь"
   ]
  },
  {
   "cell_type": "markdown",
   "metadata": {},
   "source": [
    "#### \"Сравнение трендов\"\n",
    "\n",
    "1. Даны данные о продажах двух продуктов (Product A, Product B) за 7 дней.\n",
    "2. Постройте один график, на котором будут отображены оба тренда продаж в виде двух разных линий.\n",
    "3. Линия для Product A должна быть синей сплошной, а для Product B — красной пунктирной.\n",
    "4. Добавьте легенду, чтобы было понятно, какая линия какому продукту соответствует.\n",
    "5. Добавьте заголовок \"Динамика продаж\" и подпишите оси.\n",
    "\n",
    "##### Для установки matplotlib выполните команду в Терминале: `pip3 install matplotlib`"
   ]
  },
  {
   "cell_type": "code",
   "execution_count": null,
   "metadata": {},
   "outputs": [],
   "source": [
    "import matplotlib.pyplot as plt\n",
    "\n",
    "days = range(1, 8)\n",
    "sales_a = [10, 12, 15, 14, 18, 20, 22]\n",
    "sales_b = [8, 9, 11, 13, 12, 16, 17]\n",
    "\n",
    "# Ваш код здесь"
   ]
  }
 ],
 "metadata": {
  "kernelspec": {
   "display_name": "Python 3",
   "language": "python",
   "name": "python3"
  },
  "language_info": {
   "codemirror_mode": {
    "name": "ipython",
    "version": 3
   },
   "file_extension": ".py",
   "mimetype": "text/x-python",
   "name": "python",
   "nbconvert_exporter": "python",
   "pygments_lexer": "ipython3",
   "version": "3.12.6"
  }
 },
 "nbformat": 4,
 "nbformat_minor": 2
}
